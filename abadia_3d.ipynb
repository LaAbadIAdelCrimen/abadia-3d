{
  "nbformat": 4,
  "nbformat_minor": 0,
  "metadata": {
    "colab": {
      "name": "abadia-3d.ipynb",
      "provenance": [],
      "private_outputs": true,
      "collapsed_sections": [],
      "mount_file_id": "1wYoVcpN41TYxylNbDBydGTb_QyXZ6tYc",
      "authorship_tag": "ABX9TyPdCrdMlNUp6AY2sMbN4LIT",
      "include_colab_link": true
    },
    "kernelspec": {
      "name": "python3",
      "display_name": "Python 3"
    }
  },
  "cells": [
    {
      "cell_type": "markdown",
      "metadata": {
        "id": "view-in-github",
        "colab_type": "text"
      },
      "source": [
        "<a href=\"https://colab.research.google.com/github/LaAbadIAdelCrimen/abadia-3d/blob/master/abadia_3d.ipynb\" target=\"_parent\"><img src=\"https://colab.research.google.com/assets/colab-badge.svg\" alt=\"Open In Colab\"/></a>"
      ]
    },
    {
      "cell_type": "code",
      "metadata": {
        "id": "ZyzlDaVMDi49",
        "colab_type": "code",
        "colab": {}
      },
      "source": [
        "import numpy as np\n",
        "import matplotlib.pyplot as plt\n",
        "import mpl_toolkits.mplot3d.axes3d as p3\n",
        "import matplotlib.animation as animation\n",
        "import pandas as pd\n",
        "from sys import exit\n",
        "\n",
        "\n",
        "# Reading the data from a CSV file using pandas\n",
        "repo = pd.read_csv('alturas-extra.csv',sep=',',header=0)\n",
        "print(repo)\n",
        "\n",
        "\n",
        "data = np.array((repo['X'].values, repo['Y'].values, repo['height'].values, repo['Level'].values))\n",
        "print(data.shape[1])\n",
        "# Create heatmap\n",
        "\n",
        "data0 = np.asarray([x for x in data if x[3] == 0 ])\n",
        "print(data0.shape)\n",
        "\n",
        "heatmap, xedges, yedges = np.histogram2d(data[1], data[0], bins=(256,256))\n",
        "extent = [xedges[0], xedges[256], yedges[0], yedges[256]]\n",
        "\n",
        "# Plot heatmap\n",
        "plt.clf()\n",
        "plt.title('Plano de Alturas de la Abadia del Crimen')\n",
        "plt.ylabel('x')\n",
        "plt.xlabel('y')\n",
        "plt.imshow(heatmap, extent=extent)\n",
        "plt.show()"
      ],
      "execution_count": 0,
      "outputs": []
    },
    {
      "cell_type": "code",
      "metadata": {
        "id": "jRhpT_ZKb4ae",
        "colab_type": "code",
        "colab": {}
      },
      "source": [
        "maps = np.zeros((3, 256, 256))\n",
        "for dd in repo.values:\n",
        "  # print (dd)\n",
        "  maps[dd[0], dd[2], dd[1]] = dd[3]\n",
        "  # print (maps[dd[0], dd[1], dd[2]])\n",
        "\n",
        "# print (maps[2])\n",
        "\n",
        "fig  = plt.figure(figsize=(10,10),facecolor = 'white', dpi=100)\n",
        "plt.savefig('abadia-3d-planta0.png', dpi=100)\n",
        "\n",
        "plt.imshow (maps[0][0:200], cmap='Blues', interpolation='none')\n",
        "plt.show(fig)\n",
        "\n",
        "fig  = plt.figure(figsize=(10,10),facecolor = 'white', dpi=100)\n",
        "plt.savefig('abadia-3d-planta1.png', dpi=100)\n",
        "\n",
        "plt.imshow (maps[1][0:120][0:120], cmap='Blues', interpolation='none')\n",
        "plt.show(fig)\n",
        "\n",
        "fig  = plt.figure(figsize=(10,10),facecolor = 'white', dpi=100)\n",
        "plt.savefig('abadia-3d-planta2.png', dpi=100)\n",
        "\n",
        "plt.imshow (maps[2][0:125][0:125], cmap='Blues', interpolation='none')\n",
        "plt.show(fig)\n"
      ],
      "execution_count": 0,
      "outputs": []
    },
    {
      "cell_type": "code",
      "metadata": {
        "id": "daNKxiQi9kqQ",
        "colab_type": "code",
        "colab": {}
      },
      "source": [
        ""
      ],
      "execution_count": 0,
      "outputs": []
    },
    {
      "cell_type": "code",
      "metadata": {
        "id": "nOMnyw77uh1N",
        "colab_type": "code",
        "colab": {}
      },
      "source": [
        "import seaborn as sns\n",
        "import matplotlib.pylab as plt\n",
        "dd = np.random.rand(10, 12)\n",
        "print(maps[2][0:125][0:125])\n",
        "dd = maps[2][:150][:200]\n",
        "fig  = plt.figure(figsize=(10,10),facecolor = 'white', dpi=100)\n",
        "ax = sns.heatmap(dd, linewidth=0)\n",
        "plt.show()"
      ],
      "execution_count": 0,
      "outputs": []
    },
    {
      "cell_type": "code",
      "metadata": {
        "id": "9o-HAeFz9n4N",
        "colab_type": "code",
        "colab": {}
      },
      "source": [
        "!pip install numpy-stl\n"
      ],
      "execution_count": 0,
      "outputs": []
    },
    {
      "cell_type": "code",
      "metadata": {
        "id": "BT4JGsLm9sXG",
        "colab_type": "code",
        "colab": {}
      },
      "source": [
        "\n",
        "import math\n",
        "import stl\n",
        "from stl import mesh\n",
        "import numpy\n",
        "\n",
        "\n",
        "# find the max dimensions, so we can know the bounding box, getting the height,\n",
        "# width, length (because these are the step size)...\n",
        "def find_mins_maxs(obj):\n",
        "    minx = maxx = miny = maxy = minz = maxz = None\n",
        "    for p in obj.points:\n",
        "        # p contains (x, y, z)\n",
        "        if minx is None:\n",
        "            minx = p[stl.Dimension.X]\n",
        "            maxx = p[stl.Dimension.X]\n",
        "            miny = p[stl.Dimension.Y]\n",
        "            maxy = p[stl.Dimension.Y]\n",
        "            minz = p[stl.Dimension.Z]\n",
        "            maxz = p[stl.Dimension.Z]\n",
        "        else:\n",
        "            maxx = max(p[stl.Dimension.X], maxx)\n",
        "            minx = min(p[stl.Dimension.X], minx)\n",
        "            maxy = max(p[stl.Dimension.Y], maxy)\n",
        "            miny = min(p[stl.Dimension.Y], miny)\n",
        "            maxz = max(p[stl.Dimension.Z], maxz)\n",
        "            minz = min(p[stl.Dimension.Z], minz)\n",
        "    return minx, maxx, miny, maxy, minz, maxz\n",
        "\n",
        "\n",
        "def translate(_solid, step, padding, multiplier, axis):\n",
        "    if axis == 'x':\n",
        "        items = [0, 3, 6]\n",
        "    elif axis == 'y':\n",
        "        items = [1, 4, 7]\n",
        "    elif axis == 'z':\n",
        "        items = [2, 5, 8]\n",
        "    for p in _solid.points:\n",
        "        # point items are ((x, y, z), (x, y, z), (x, y, z))\n",
        "        for i in range(3):\n",
        "            p[items[i]] += (step * multiplier) + (padding * multiplier)\n",
        "\n",
        "\n",
        "def copy_obj(obj, dims, num_rows, num_cols, num_layers):\n",
        "    w, l, h = dims\n",
        "    copies = []\n",
        "    for layer in range(num_layers):\n",
        "        for row in range(num_rows):\n",
        "            for col in range(num_cols):\n",
        "                # skip the position where original being copied is\n",
        "                if row == 0 and col == 0 and layer == 0:\n",
        "                    continue\n",
        "                _copy = mesh.Mesh(obj.data.copy())\n",
        "                # pad the space between objects by 10% of the dimension being\n",
        "                # translated\n",
        "                if col != 0:\n",
        "                    translate(_copy, w, w / 10., col, 'x')\n",
        "                if row != 0:\n",
        "                    translate(_copy, l, l / 10., row, 'y')\n",
        "                if layer != 0:\n",
        "                    translate(_copy, h, h / 10., layer, 'z')\n",
        "                copies.append(_copy)\n",
        "    return copies\n",
        "\n",
        "# Using an existing stl file:\n",
        "main_body = mesh.Mesh.from_file('cube.stl')\n",
        "\n",
        "# Dont want to rotate along Y\n",
        "# main_body.rotate([0.0, 0.5, 0.0], math.radians(90))\n",
        "\n",
        "minx, maxx, miny, maxy, minz, maxz = find_mins_maxs(main_body)\n",
        "w1 = maxx - minx\n",
        "l1 = maxy - miny\n",
        "h1 = maxz - minz\n",
        "copies = copy_obj(main_body, (w1, l1, h1), 1, 1, 1)\n",
        "\n",
        "# I wanted to add another related STL to the final STL\n",
        "twist_lock = mesh.Mesh.from_file('cube.stl')\n",
        "\n",
        "minx, maxx, miny, maxy, minz, maxz = find_mins_maxs(twist_lock)\n",
        "w2 = maxx - minx\n",
        "l2 = maxy - miny\n",
        "h2 = maxz - minz\n",
        "\n",
        "\n",
        "translate(twist_lock, w1, w1 / 10., 3, 'x')\n",
        "\n",
        "copies2 = copy_obj(twist_lock, (w2, l2, h2), 2, 2, 2)\n",
        "combined = mesh.Mesh(numpy.concatenate([main_body.data, twist_lock.data] +\n",
        "                                    [copy.data for copy in copies] +\n",
        "                                    [copy.data for copy in copies2]))\n",
        "\n",
        "combined.save('combined.stl', mode=stl.Mode.ASCII)  # save as ASCII\n"
      ],
      "execution_count": 0,
      "outputs": []
    },
    {
      "cell_type": "code",
      "metadata": {
        "id": "HuZP_tFmHF1v",
        "colab_type": "code",
        "colab": {}
      },
      "source": [
        "# Optionally render the rotated cube faces\n",
        "from matplotlib import pyplot\n",
        "from mpl_toolkits import mplot3d\n",
        "\n",
        "# Create a new plot\n",
        "figure = pyplot.figure()\n",
        "axes = mplot3d.Axes3D(figure)\n",
        "\n",
        "# Render the cube\n",
        "axes.add_collection3d(mplot3d.art3d.Poly3DCollection(combined.vectors))\n",
        "\n",
        "# Auto scale to the mesh size\n",
        "scale = combined.points.flatten('C')\n",
        "axes.auto_scale_xyz(scale, scale, scale)\n",
        "\n",
        "# Show the plot to the screen\n",
        "pyplot.show()"
      ],
      "execution_count": 0,
      "outputs": []
    },
    {
      "cell_type": "code",
      "metadata": {
        "id": "VJcdEs-sMnHk",
        "colab_type": "code",
        "colab": {}
      },
      "source": [
        "\n",
        "\n",
        "for ii in range(0,3):\n",
        "  level = mesh.Mesh.from_file('cube.stl')\n",
        "\n",
        "  copies = []\n",
        "  for keys, val in np.ndenumerate(maps[ii]):\n",
        "    if (val > 0): \n",
        "      _copy = mesh.Mesh(level.data.copy())\n",
        "      translate(_copy, 1, 1 / 10., keys[0], 'x')\n",
        "      translate(_copy, 1, 1 / 10., keys[1], 'y')\n",
        "      translate(_copy, 1, 1 / 10., val, 'z')\n",
        "      copies.append(_copy)\n",
        "\n",
        "  combined2 = mesh.Mesh(numpy.concatenate([copy.data for copy in copies]))\n",
        "  combined2.save(f\"level{ii}.stl\", mode=stl.Mode.ASCII)\n",
        "  \n"
      ],
      "execution_count": 0,
      "outputs": []
    },
    {
      "cell_type": "code",
      "metadata": {
        "id": "xGQRDD7xQQQk",
        "colab_type": "code",
        "colab": {}
      },
      "source": [
        "# Create a new plot\n",
        "figure = pyplot.figure()\n",
        "axes = mplot3d.Axes3D(figure)\n",
        "\n",
        "# Render the cube\n",
        "axes.add_collection3d(mplot3d.art3d.Poly3DCollection(combined2.vectors))\n",
        "\n",
        "# Auto scale to the mesh size\n",
        "scale = combined2.points.flatten('C')\n",
        "print(scale)\n",
        "axes.auto_scale_xyz(scale, scale, scale)\n",
        "\n",
        "# Show the plot to the screen\n",
        "pyplot.show()"
      ],
      "execution_count": 0,
      "outputs": []
    }
  ]
}