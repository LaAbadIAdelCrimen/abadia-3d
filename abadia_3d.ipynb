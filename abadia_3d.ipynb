{
  "nbformat": 4,
  "nbformat_minor": 0,
  "metadata": {
    "colab": {
      "name": "abadia-3d.ipynb",
      "provenance": [],
      "private_outputs": true,
      "collapsed_sections": [],
      "mount_file_id": "1wYoVcpN41TYxylNbDBydGTb_QyXZ6tYc",
      "authorship_tag": "ABX9TyNFlHL39vnuG9R/gQJRQeXx",
      "include_colab_link": true
    },
    "kernelspec": {
      "name": "python3",
      "display_name": "Python 3"
    }
  },
  "cells": [
    {
      "cell_type": "markdown",
      "metadata": {
        "id": "view-in-github",
        "colab_type": "text"
      },
      "source": [
        "<a href=\"https://colab.research.google.com/github/LaAbadIAdelCrimen/abadia-3d/blob/master/abadia_3d.ipynb\" target=\"_parent\"><img src=\"https://colab.research.google.com/assets/colab-badge.svg\" alt=\"Open In Colab\"/></a>"
      ]
    },
    {
      "cell_type": "code",
      "metadata": {
        "id": "ZyzlDaVMDi49",
        "colab_type": "code",
        "colab": {}
      },
      "source": [
        "import numpy as np\n",
        "import matplotlib.pyplot as plt\n",
        "import mpl_toolkits.mplot3d.axes3d as p3\n",
        "import matplotlib.animation as animation\n",
        "import pandas as pd\n",
        "from sys import exit\n",
        "\n",
        "\n",
        "# Reading the data from a CSV file using pandas\n",
        "repo = pd.read_csv('alturas-extra.csv',sep=',',header=0)\n",
        "# print(repo)\n",
        "\n",
        "\n",
        "data = np.array((repo['X'].values, repo['Y'].values, repo['height'].values, repo['Level'].values))\n",
        "print(data.shape[1])\n",
        "# Create heatmap\n",
        "\n",
        "data0 = np.asarray([x for x in data if x[3] == 0 ])\n",
        "print(data0.shape)\n",
        "\n",
        "heatmap, xedges, yedges = np.histogram2d(data[1], data[0], bins=(256,256))\n",
        "extent = [xedges[0], xedges[256], yedges[0], yedges[256]]\n",
        "\n",
        "# Plot heatmap\n",
        "plt.clf()\n",
        "plt.title('Plano de Alturas de la Abadia del Crimen')\n",
        "plt.ylabel('x')\n",
        "plt.xlabel('y')\n",
        "plt.imshow(heatmap, extent=extent)\n",
        "plt.show()"
      ],
      "execution_count": 0,
      "outputs": []
    },
    {
      "cell_type": "code",
      "metadata": {
        "id": "jRhpT_ZKb4ae",
        "colab_type": "code",
        "colab": {}
      },
      "source": [
        "maps = np.zeros((3, 256, 256))\n",
        "for dd in repo.values:\n",
        "  # print (dd)\n",
        "  maps[dd[0], dd[2], dd[1]] = dd[3]\n",
        "  # print (maps[dd[0], dd[1], dd[2]])\n",
        "\n",
        "# print (maps[2])\n",
        "\n",
        "fig  = plt.figure(figsize=(10,10),facecolor = 'white', dpi=100)\n",
        "plt.savefig('abadia-3d-planta0.png', dpi=100)\n",
        "\n",
        "plt.imshow (maps[0], cmap='Blues', interpolation='none')\n",
        "plt.show(fig)\n",
        "\n",
        "fig  = plt.figure(figsize=(10,10),facecolor = 'white', dpi=100)\n",
        "plt.savefig('abadia-3d-planta1.png', dpi=100)\n",
        "\n",
        "plt.imshow (maps[1], cmap='Blues', interpolation='none')\n",
        "plt.show(fig)\n",
        "\n",
        "fig  = plt.figure(figsize=(10,10),facecolor = 'white', dpi=100)\n",
        "plt.savefig('abadia-3d-planta2.png', dpi=100)\n",
        "\n",
        "plt.imshow (maps[2], cmap='Blues', interpolation='none')\n",
        "plt.show(fig)\n"
      ],
      "execution_count": 0,
      "outputs": []
    }
  ]
}