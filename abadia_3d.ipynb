{
  "nbformat": 4,
  "nbformat_minor": 0,
  "metadata": {
    "colab": {
      "name": "abadia-3d.ipynb",
      "provenance": [],
      "private_outputs": true,
      "collapsed_sections": [],
      "mount_file_id": "1wYoVcpN41TYxylNbDBydGTb_QyXZ6tYc",
      "authorship_tag": "ABX9TyO6ESs52/32OmHaKah2jxa6",
      "include_colab_link": true
    },
    "kernelspec": {
      "name": "python3",
      "display_name": "Python 3"
    }
  },
  "cells": [
    {
      "cell_type": "markdown",
      "metadata": {
        "id": "view-in-github",
        "colab_type": "text"
      },
      "source": [
        "<a href=\"https://colab.research.google.com/github/LaAbadIAdelCrimen/abadia-3d/blob/master/abadia_3d.ipynb\" target=\"_parent\"><img src=\"https://colab.research.google.com/assets/colab-badge.svg\" alt=\"Open In Colab\"/></a>"
      ]
    },
    {
      "cell_type": "code",
      "metadata": {
        "id": "ZyzlDaVMDi49",
        "colab_type": "code",
        "colab": {}
      },
      "source": [
        "import numpy as np\n",
        "import matplotlib.pyplot as plt\n",
        "import mpl_toolkits.mplot3d.axes3d as p3\n",
        "import matplotlib.animation as animation\n",
        "import pandas as pd\n",
        "from sys import exit\n",
        "\n",
        "\n",
        "# Reading the data from a CSV file using pandas\n",
        "repo = pd.read_csv('alturas-extra.csv',sep=',',header=0)\n",
        "# print(repo)\n",
        "\n",
        "\n",
        "data = np.array((repo['X'].values, repo['Y'].values, repo['height'].values, repo['Level'].values))\n",
        "print(data.shape[1])\n",
        "# Create heatmap\n",
        "\n",
        "data0 = np.asarray([x for x in data if x[3] == 0 ])\n",
        "print(data0.shape)\n",
        "\n",
        "heatmap, xedges, yedges = np.histogram2d(data[1], data[0], bins=(256,256))\n",
        "extent = [xedges[0], xedges[256], yedges[0], yedges[256]]\n",
        "\n",
        "# Plot heatmap\n",
        "plt.clf()\n",
        "plt.title('Plano de Alturas de la Abadia del Crimen')\n",
        "plt.ylabel('x')\n",
        "plt.xlabel('y')\n",
        "plt.imshow(heatmap, extent=extent)\n",
        "plt.show()"
      ],
      "execution_count": 0,
      "outputs": []
    }
  ]
}