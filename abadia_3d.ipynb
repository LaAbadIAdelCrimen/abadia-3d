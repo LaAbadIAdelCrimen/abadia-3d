{
  "nbformat": 4,
  "nbformat_minor": 0,
  "metadata": {
    "colab": {
      "name": "abadia-3d.ipynb",
      "provenance": [],
      "private_outputs": true,
      "collapsed_sections": [],
      "mount_file_id": "1wYoVcpN41TYxylNbDBydGTb_QyXZ6tYc",
      "authorship_tag": "ABX9TyMzAfIuOiLmLnvk8cCn1RYo",
      "include_colab_link": true
    },
    "kernelspec": {
      "name": "python3",
      "display_name": "Python 3"
    }
  },
  "cells": [
    {
      "cell_type": "markdown",
      "metadata": {
        "id": "view-in-github",
        "colab_type": "text"
      },
      "source": [
        "<a href=\"https://colab.research.google.com/github/LaAbadIAdelCrimen/abadia-3d/blob/master/abadia_3d.ipynb\" target=\"_parent\"><img src=\"https://colab.research.google.com/assets/colab-badge.svg\" alt=\"Open In Colab\"/></a>"
      ]
    },
    {
      "cell_type": "code",
      "metadata": {
        "id": "Ky49PxAcPz0t",
        "colab_type": "code",
        "colab": {}
      },
      "source": [
        "from mpl_toolkits import mplot3d\n"
      ],
      "execution_count": 0,
      "outputs": []
    },
    {
      "cell_type": "code",
      "metadata": {
        "id": "oItEOieyQhNA",
        "colab_type": "code",
        "colab": {}
      },
      "source": [
        "%matplotlib inline\n",
        "import numpy as np\n",
        "import matplotlib.pyplot as plt\n"
      ],
      "execution_count": 0,
      "outputs": []
    },
    {
      "cell_type": "code",
      "metadata": {
        "id": "4YyUGjpaQksM",
        "colab_type": "code",
        "colab": {}
      },
      "source": [
        "fig = plt.figure()\n",
        "ax = plt.axes(projection='3d')"
      ],
      "execution_count": 0,
      "outputs": []
    },
    {
      "cell_type": "code",
      "metadata": {
        "id": "uOz3MKZoQ28T",
        "colab_type": "code",
        "colab": {}
      },
      "source": [
        "ax = plt.axes(projection='3d')\n",
        "\n",
        "# Data for a three-dimensional line\n",
        "zline = np.linspace(0, 15, 1000)\n",
        "xline = np.sin(zline)\n",
        "yline = np.cos(zline)\n",
        "ax.plot3D(xline, yline, zline, 'gray')\n",
        "\n",
        "# Data for three-dimensional scattered points\n",
        "zdata = 15 * np.random.random(100)\n",
        "xdata = np.sin(zdata) + 0.1 * np.random.randn(100)\n",
        "ydata = np.cos(zdata) + 0.1 * np.random.randn(100)\n",
        "ax.scatter3D(xdata, ydata, zdata, c=zdata, cmap='Greens');"
      ],
      "execution_count": 0,
      "outputs": []
    },
    {
      "cell_type": "code",
      "metadata": {
        "id": "QvYVXG5kRujj",
        "colab_type": "code",
        "colab": {}
      },
      "source": [
        "import numpy as np\n",
        "import matplotlib.pyplot as plt\n",
        "import mpl_toolkits.mplot3d.axes3d as p3\n",
        "import matplotlib.animation as animation\n",
        "import pandas as pd\n",
        "from sys import exit\n",
        "def update_lines(num, data, line):\n",
        "    # NOTE: there is no .set_data() for 3 dim data...\n",
        "    line.set_data(data[0:2, :num])    \n",
        "    line.set_3d_properties(data[2, :num])    \n",
        "    return line\n",
        "\n",
        "# Attaching 3D axis to the figure\n",
        "fig = plt.figure()\n",
        "ax = p3.Axes3D(fig)\n",
        "\n",
        "# Reading the data from a CSV file using pandas\n",
        "repo = pd.read_csv('alturas-extra.csv',sep=',',header=0)\n",
        "print(repo)\n",
        "print(repo['X'])\n",
        "print(repo['Y'])\n",
        "\n",
        "data = np.array((repo['X'].values, repo['Y'].values, repo['height'].values, repo['level'].values))\n",
        "print(data.shape[1])\n",
        "\n",
        "\n",
        "# Creating fifty line objects.\n",
        "# NOTE: Can't pass empty arrays into 3d version of plot()\n",
        "line = ax.plot(data[0], data[1], data[2])[0]\n",
        "\n",
        "# Setting the axes properties\n",
        "ax.set_xlim3d([0, 256])\n",
        "ax.set_xlabel('X')\n",
        "\n",
        "ax.set_ylim3d([0, 256])\n",
        "ax.set_ylabel('Y')\n",
        "\n",
        "ax.set_zlim3d([0,16])\n",
        "ax.set_zlabel('Altura')\n",
        "\n",
        "ax.set_title('3D Test')\n",
        "\n",
        "# Creating the Animation object\n",
        "line_ani = animation.FuncAnimation(fig, update_lines, data.shape[1], fargs=(data, line), interval=50, blit=False)\n",
        "\n",
        "\n",
        "plt.show()"
      ],
      "execution_count": 0,
      "outputs": []
    },
    {
      "cell_type": "code",
      "metadata": {
        "id": "ZyzlDaVMDi49",
        "colab_type": "code",
        "colab": {}
      },
      "source": [
        "# Reading the data from a CSV file using pandas\n",
        "repo = pd.read_csv('alturas-extra.csv',sep=',',header=0)\n",
        "# print(repo)\n",
        "\n",
        "\n",
        "data = np.array((repo['X'].values, repo['Y'].values, repo['height'].values, repo['Level'].values))\n",
        "print(data.shape[1])\n",
        "# Create heatmap\n",
        "\n",
        "data0 = np.asarray([x for x in data if x[3] == 0 ])\n",
        "print(data0.shape)\n",
        "\n",
        "heatmap, xedges, yedges = np.histogram2d(data[1], data[0], \n",
        "                                         bins=(256,256))\n",
        "extent = [xedges[0], xedges[256], yedges[0], yedges[256]]\n",
        "\n",
        "# Plot heatmap\n",
        "plt.clf()\n",
        "plt.title('Pythonspot.com heatmap example')\n",
        "plt.ylabel('x')\n",
        "plt.xlabel('y')\n",
        "plt.imshow(heatmap, extent=extent)\n",
        "plt.show()"
      ],
      "execution_count": 0,
      "outputs": []
    }
  ]
}